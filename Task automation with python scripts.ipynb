{
 "cells": [
  {
   "cell_type": "code",
   "execution_count": 6,
   "id": "b7190adc",
   "metadata": {},
   "outputs": [],
   "source": [
    "import os\n",
    "import shutil\n",
    "\n",
    "# Function to organize files by extension\n",
    "def organize_files(directory):\n",
    "    for filename in os.listdir(directory):\n",
    "        if os.path.isfile(os.path.join(directory, filename)):\n",
    "            file_extension = filename.split('.')[-1]\n",
    "            if not os.path.exists(os.path.join(directory, file_extension)):\n",
    "                os.makedirs(os.path.join(directory, file_extension))\n",
    "            shutil.move(os.path.join(directory, filename), os.path.join(directory, file_extension, filename))\n",
    "\n",
    "# Specify the directory to organize\n",
    "directory_to_organize = r\"D:\\Sem-6\\UI-UX\"\n",
    "\n",
    "# Call the function to organize files\n",
    "organize_files(directory_to_organize)"
   ]
  },
  {
   "cell_type": "code",
   "execution_count": null,
   "id": "5ceffe64",
   "metadata": {},
   "outputs": [],
   "source": []
  }
 ],
 "metadata": {
  "kernelspec": {
   "display_name": "Python 3 (ipykernel)",
   "language": "python",
   "name": "python3"
  },
  "language_info": {
   "codemirror_mode": {
    "name": "ipython",
    "version": 3
   },
   "file_extension": ".py",
   "mimetype": "text/x-python",
   "name": "python",
   "nbconvert_exporter": "python",
   "pygments_lexer": "ipython3",
   "version": "3.11.5"
  }
 },
 "nbformat": 4,
 "nbformat_minor": 5
}
